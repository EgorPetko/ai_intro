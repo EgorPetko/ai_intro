{
  "nbformat": 4,
  "nbformat_minor": 0,
  "metadata": {
    "colab": {
      "provenance": [],
      "authorship_tag": "ABX9TyNxb+GGP46s5WyZZYCWCsZA",
      "include_colab_link": true
    },
    "kernelspec": {
      "name": "python3",
      "display_name": "Python 3"
    },
    "language_info": {
      "name": "python"
    }
  },
  "cells": [
    {
      "cell_type": "markdown",
      "metadata": {
        "id": "view-in-github",
        "colab_type": "text"
      },
      "source": [
        "<a href=\"https://colab.research.google.com/github/EgorPetko/ai_intro/blob/main/ai_lab_3.ipynb\" target=\"_parent\"><img src=\"https://colab.research.google.com/assets/colab-badge.svg\" alt=\"Open In Colab\"/></a>"
      ]
    },
    {
      "cell_type": "code",
      "source": [
        "#1\n",
        "import pandas as pd\n",
        "import numpy as np\n",
        "import matplotlib\n",
        "import matplotlib.pyplot as plt\n",
        "import pandas as pd\n",
        "from sklearn.preprocessing import StandardScaler\n",
        "data = pd.read_csv(\"student_data.csv\", sep=',')\n",
        "nameY = \"G3\"\n",
        "\n",
        "for name in data:\n",
        "  if(data[name].dtypes == data[nameY].dtypes) : continue\n",
        "  map = dict()\n",
        "  sh = 0\n",
        "  for to in data[name]:\n",
        "    if(to in map) : continue\n",
        "    map[to] = sh\n",
        "    sh += 1\n",
        "  data[name].replace(map, inplace=True)\n",
        "\n",
        "X = pd.DataFrame(StandardScaler().fit_transform(data), columns=data.columns)\n",
        "Y = X[nameY]\n",
        "del X[nameY]\n",
        "#X = pd.DataFrame(StandardScaler().fit_transform(data), columns=data.columns)\n",
        "print(X)\n",
        "print(Y)"
      ],
      "metadata": {
        "colab": {
          "base_uri": "https://localhost:8080/"
        },
        "id": "Qn6YTz2e-JTw",
        "outputId": "e44b297b-d56e-471e-da1c-d50d2ac876df"
      },
      "execution_count": 8,
      "outputs": [
        {
          "output_type": "stream",
          "name": "stdout",
          "text": [
            "       school       sex       age   address   famsize   Pstatus      Medu  \\\n",
            "0   -0.363050 -0.948176  1.023046 -0.535392 -0.636941 -2.938392  1.143856   \n",
            "1   -0.363050 -0.948176  0.238380 -0.535392 -0.636941  0.340322 -1.600009   \n",
            "2   -0.363050 -0.948176 -1.330954 -0.535392  1.570004  0.340322 -1.600009   \n",
            "3   -0.363050 -0.948176 -1.330954 -0.535392 -0.636941  0.340322  1.143856   \n",
            "4   -0.363050 -0.948176 -0.546287 -0.535392 -0.636941  0.340322  0.229234   \n",
            "..        ...       ...       ...       ...       ...       ...       ...   \n",
            "390  2.754443  1.054656  2.592380 -0.535392  1.570004 -2.938392 -0.685387   \n",
            "391  2.754443  1.054656  0.238380 -0.535392  1.570004  0.340322  0.229234   \n",
            "392  2.754443  1.054656  3.377047  1.867789 -0.636941  0.340322 -1.600009   \n",
            "393  2.754443  1.054656  1.023046  1.867789  1.570004  0.340322  0.229234   \n",
            "394  2.754443  1.054656  1.807713 -0.535392  1.570004  0.340322 -1.600009   \n",
            "\n",
            "         Fedu      Mjob      Fjob  ...  romantic    famrel  freetime  \\\n",
            "0    1.360371 -1.769793 -1.632777  ... -0.708450  0.062194 -0.236010   \n",
            "1   -1.399970 -1.769793 -0.507215  ... -0.708450  1.178860 -0.236010   \n",
            "2   -1.399970 -1.769793 -0.507215  ... -0.708450  0.062194 -0.236010   \n",
            "3   -0.479857 -0.954077  0.618347  ...  1.411533 -1.054472 -1.238419   \n",
            "4    0.440257 -0.138362 -0.507215  ... -0.708450  0.062194 -0.236010   \n",
            "..        ...       ...       ...  ...       ...       ...       ...   \n",
            "390 -0.479857  0.677354  0.618347  ... -0.708450  1.178860  1.768808   \n",
            "391 -1.399970  0.677354  0.618347  ... -0.708450 -2.171138  0.766399   \n",
            "392 -1.399970 -0.138362 -0.507215  ... -0.708450  1.178860  1.768808   \n",
            "393 -0.479857  0.677354 -0.507215  ... -0.708450  0.062194  0.766399   \n",
            "394 -1.399970 -0.138362  2.869470  ... -0.708450 -1.054472 -1.238419   \n",
            "\n",
            "        goout      Dalc      Walc    health  absences        G1        G2  \n",
            "0    0.801479 -0.540699 -1.003789 -0.399289  0.036424 -1.782467 -1.254791  \n",
            "1   -0.097908 -0.540699 -1.003789 -0.399289 -0.213796 -1.782467 -1.520979  \n",
            "2   -0.997295  0.583385  0.551100 -0.399289  0.536865 -1.179147 -0.722415  \n",
            "3   -0.997295 -0.540699 -1.003789  1.041070 -0.464016  1.234133  0.874715  \n",
            "4   -0.997295 -0.540699 -0.226345  1.041070 -0.213796 -1.480807 -0.190038  \n",
            "..        ...       ...       ...       ...       ...       ...       ...  \n",
            "390  0.801479  2.831553  2.105989  0.320890  0.661975 -0.575827 -0.456226  \n",
            "391  1.700867  1.707469  1.328545 -1.119469 -0.338906  0.932473  1.407091  \n",
            "392 -0.097908  1.707469  0.551100 -0.399289 -0.338906 -0.274167 -0.722415  \n",
            "393 -1.896683  1.707469  1.328545  1.041070 -0.714236  0.027493  0.342338  \n",
            "394 -0.097908  1.707469  0.551100  1.041070 -0.088686 -0.877487 -0.456226  \n",
            "\n",
            "[395 rows x 32 columns]\n",
            "0     -0.964934\n",
            "1     -0.964934\n",
            "2     -0.090739\n",
            "3      1.002004\n",
            "4     -0.090739\n",
            "         ...   \n",
            "390   -0.309288\n",
            "391    1.220553\n",
            "392   -0.746385\n",
            "393   -0.090739\n",
            "394   -0.309288\n",
            "Name: G3, Length: 395, dtype: float64\n"
          ]
        },
        {
          "output_type": "stream",
          "name": "stderr",
          "text": [
            "<ipython-input-8-31dc32962f95>:19: FutureWarning: A value is trying to be set on a copy of a DataFrame or Series through chained assignment using an inplace method.\n",
            "The behavior will change in pandas 3.0. This inplace method will never work because the intermediate object on which we are setting values always behaves as a copy.\n",
            "\n",
            "For example, when doing 'df[col].method(value, inplace=True)', try using 'df.method({col: value}, inplace=True)' or df[col] = df[col].method(value) instead, to perform the operation inplace on the original object.\n",
            "\n",
            "\n",
            "  data[name].replace(map, inplace=True)\n",
            "<ipython-input-8-31dc32962f95>:19: FutureWarning: Downcasting behavior in `replace` is deprecated and will be removed in a future version. To retain the old behavior, explicitly call `result.infer_objects(copy=False)`. To opt-in to the future behavior, set `pd.set_option('future.no_silent_downcasting', True)`\n",
            "  data[name].replace(map, inplace=True)\n"
          ]
        }
      ]
    },
    {
      "cell_type": "code",
      "source": [
        "#2\n",
        "#Задача регрессии"
      ],
      "metadata": {
        "id": "aJhmm7s6-MEY"
      },
      "execution_count": 9,
      "outputs": []
    },
    {
      "cell_type": "code",
      "source": [
        "#3\n",
        "import pandas as pd\n",
        "from sklearn.preprocessing import StandardScaler\n",
        "from sklearn.model_selection import train_test_split\n",
        "\n",
        "x_train, x_test, y_train, y_test = train_test_split(X, Y, test_size=0.2, random_state=21)\n"
      ],
      "metadata": {
        "id": "3zi4xf74-bVK"
      },
      "execution_count": 10,
      "outputs": []
    },
    {
      "cell_type": "code",
      "source": [
        "#4\n",
        "from sklearn.linear_model import LinearRegression\n",
        "#4a\n",
        "model_L = LinearRegression().fit(x_train, y_train)\n",
        "print(model_L.score(x_test,y_test))\n",
        "#4b\n",
        "from sklearn import tree\n",
        "model_D = tree.DecisionTreeRegressor(min_samples_split = 8, min_samples_leaf = 2).fit(x_train, y_train)\n",
        "print(model_D.score(x_test,y_test))\n",
        "#4C\n",
        "from sklearn.neighbors import KNeighborsRegressor\n",
        "model_K = KNeighborsRegressor(n_neighbors = 6,p = 2).fit(x_train, y_train)\n",
        "print(model_K.score(x_test,y_test))\n",
        "#4D\n",
        "from sklearn.ensemble import RandomForestRegressor\n",
        "model_F = RandomForestRegressor(n_estimators=25, random_state=1, oob_score=True).fit(x_train, y_train)\n",
        "print(model_F.score(x_test,y_test))\n",
        "\n"
      ],
      "metadata": {
        "colab": {
          "base_uri": "https://localhost:8080/"
        },
        "id": "_xvJX6XnVbRd",
        "outputId": "cb3f8883-1d9b-46a5-bf99-02c58a069bdf"
      },
      "execution_count": 11,
      "outputs": [
        {
          "output_type": "stream",
          "name": "stdout",
          "text": [
            "0.8173822797690632\n",
            "0.8612495823288491\n",
            "0.47615748993853835\n",
            "0.8765509857518257\n"
          ]
        }
      ]
    },
    {
      "cell_type": "code",
      "source": [
        "#5 mae\n",
        "from sklearn.metrics import mean_absolute_error\n",
        "\n",
        "#5 mse\n",
        "from sklearn.metrics import mean_squared_error\n",
        "\n",
        "#5 rmse\n",
        "import numpy as np\n",
        "\n",
        "#5 mape\n",
        "from sklearn.metrics import mean_absolute_percentage_error\n",
        "\n",
        "\n",
        "#5\n",
        "def F(y_true, y_pred):\n",
        "\n",
        "  rmse = np.sqrt(mean_squared_error(y_true, y_pred))\n",
        "  mse = mean_squared_error(y_true, y_pred)\n",
        "  mae = mean_absolute_error(y_true, y_pred)\n",
        "  mape = mean_absolute_percentage_error(y_true, y_pred)\n",
        "  print(\"rmse: \", rmse, \" mse: \", mse, \" mae: \", mae,\" mape: \", mape)\n",
        "\n",
        "F(y_test, model_L.predict(x_test))\n",
        "F(y_train, model_L.predict(x_train))\n",
        "print()\n",
        "F(y_test, model_D.predict(x_test))\n",
        "F(y_train, model_D.predict(x_train))\n",
        "print()\n",
        "F(y_test, model_K.predict(x_test))\n",
        "F(y_train, model_K.predict(x_train))\n",
        "print()\n",
        "F(y_test, model_F.predict(x_test))\n",
        "F(y_train, model_F.predict(x_train))\n",
        "print()"
      ],
      "metadata": {
        "colab": {
          "base_uri": "https://localhost:8080/"
        },
        "id": "_ULvWUUSbv1-",
        "outputId": "bbc45501-3c03-48a7-9326-1c2a3fd768e7"
      },
      "execution_count": 12,
      "outputs": [
        {
          "output_type": "stream",
          "name": "stdout",
          "text": [
            "rmse:  0.4600856226382478  mse:  0.21167878015842417  mae:  0.2860110341380295  mape:  0.9080791128254408\n",
            "rmse:  0.3831236952482472  mse:  0.1467837658606718  mae:  0.251806176688939  mape:  0.7468699268180843\n",
            "\n",
            "rmse:  0.4010369172544088  mse:  0.16083060900091953  mae:  0.24052210875765437  mape:  1.0272248840396103\n",
            "rmse:  0.18755152952514204  mse:  0.03517557622722023  mae:  0.08400423688357833  mape:  0.25335667157105807\n",
            "\n",
            "rmse:  0.7792334246575102  mse:  0.6072047301034716  mae:  0.5666589170889748  mape:  1.4549061275577482\n",
            "rmse:  0.5855563818323483  mse:  0.3428762763045908  mae:  0.42280409029340116  mape:  0.9878098903137057\n",
            "\n",
            "rmse:  0.3782779413427439  mse:  0.1430942009065044  mae:  0.23592191594474096  mape:  0.8152124852659473\n",
            "rmse:  0.13574982302626237  mse:  0.018428014451661555  mae:  0.08053103861575293  mape:  0.25233844611145495\n",
            "\n"
          ]
        }
      ]
    }
  ]
}